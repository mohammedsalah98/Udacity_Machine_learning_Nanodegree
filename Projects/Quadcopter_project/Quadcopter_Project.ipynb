{
 "cells": [
  {
   "cell_type": "markdown",
   "metadata": {},
   "source": [
    "# Project: Train a Quadcopter How to Fly\n",
    "\n",
    "Design an agent to fly a quadcopter, and then train it using a reinforcement learning algorithm of your choice! \n",
    "\n",
    "Try to apply the techniques you have learnt, but also feel free to come up with innovative ideas and test them."
   ]
  },
  {
   "cell_type": "markdown",
   "metadata": {},
   "source": [
    "## Instructions\n",
    "\n",
    "Take a look at the files in the directory to better understand the structure of the project. \n",
    "\n",
    "- `task.py`: Define your task (environment) in this file.\n",
    "- `agents/`: Folder containing reinforcement learning agents.\n",
    "    - `policy_search.py`: A sample agent has been provided here.\n",
    "    - `agent.py`: Develop your agent here.\n",
    "- `physics_sim.py`: This file contains the simulator for the quadcopter.  **DO NOT MODIFY THIS FILE**.\n",
    "\n",
    "For this project, you will define your own task in `task.py`.  Although we have provided a example task to get you started, you are encouraged to change it.  Later in this notebook, you will learn more about how to amend this file.\n",
    "\n",
    "You will also design a reinforcement learning agent in `agent.py` to complete your chosen task.  \n",
    "\n",
    "You are welcome to create any additional files to help you to organize your code.  For instance, you may find it useful to define a `model.py` file defining any needed neural network architectures.\n",
    "\n",
    "## Controlling the Quadcopter\n",
    "\n",
    "We provide a sample agent in the code cell below to show you how to use the sim to control the quadcopter.  This agent is even simpler than the sample agent that you'll examine (in `agents/policy_search.py`) later in this notebook!\n",
    "\n",
    "The agent controls the quadcopter by setting the revolutions per second on each of its four rotors.  The provided agent in the `Basic_Agent` class below always selects a random action for each of the four rotors.  These four speeds are returned by the `act` method as a list of four floating-point numbers.  \n",
    "\n",
    "For this project, the agent that you will implement in `agents/agent.py` will have a far more intelligent method for selecting actions!"
   ]
  },
  {
   "cell_type": "code",
   "execution_count": 63,
   "metadata": {},
   "outputs": [],
   "source": [
    "import random\n",
    "\n",
    "class Basic_Agent():\n",
    "    def __init__(self, task):\n",
    "        self.task = task\n",
    "    \n",
    "    def act(self):\n",
    "        new_thrust = random.gauss(450., 25.)\n",
    "        return [new_thrust + random.gauss(0., 1.) for x in range(4)]"
   ]
  },
  {
   "cell_type": "markdown",
   "metadata": {},
   "source": [
    "Run the code cell below to have the agent select actions to control the quadcopter.  \n",
    "\n",
    "Feel free to change the provided values of `runtime`, `init_pose`, `init_velocities`, and `init_angle_velocities` below to change the starting conditions of the quadcopter.\n",
    "\n",
    "The `labels` list below annotates statistics that are saved while running the simulation.  All of this information is saved in a text file `data.txt` and stored in the dictionary `results`.  "
   ]
  },
  {
   "cell_type": "code",
   "execution_count": 64,
   "metadata": {},
   "outputs": [],
   "source": [
    "import csv\n",
    "import numpy as np\n",
    "from task import Task"
   ]
  },
  {
   "cell_type": "code",
   "execution_count": 65,
   "metadata": {},
   "outputs": [
    {
     "name": "stdout",
     "output_type": "stream",
     "text": [
      "The autoreload extension is already loaded. To reload it, use:\n",
      "  %reload_ext autoreload\n"
     ]
    }
   ],
   "source": [
    "%load_ext autoreload\n",
    "%autoreload 2\n",
    "\n",
    "runtime = 5.                                     # time limit of the episode\n",
    "init_pose = np.array([0., 0., 10., 0., 0., 0.])  # initial pose\n",
    "init_velocities = np.array([0., 0., 0.])         # initial velocities\n",
    "init_angle_velocities = np.array([0., 0., 0.])   # initial angle velocities\n",
    "file_output = 'data.txt'                         # file name for saved results\n",
    "\n",
    "# Setup\n",
    "task = Task(init_pose, init_velocities, init_angle_velocities, runtime)\n",
    "agent = Basic_Agent(task)\n",
    "done = False\n",
    "labels = ['time', 'x', 'y', 'z', 'phi', 'theta', 'psi', 'x_velocity',\n",
    "          'y_velocity', 'z_velocity', 'phi_velocity', 'theta_velocity',\n",
    "          'psi_velocity', 'rotor_speed1', 'rotor_speed2', 'rotor_speed3', 'rotor_speed4']\n",
    "results = {x : [] for x in labels}\n",
    "\n",
    "# Run the simulation, and save the results.\n",
    "with open(file_output, 'w') as csvfile:\n",
    "    writer = csv.writer(csvfile)\n",
    "    writer.writerow(labels)\n",
    "    while True:\n",
    "        rotor_speeds = agent.act()\n",
    "        _, _, done = task.step(rotor_speeds)\n",
    "        to_write = [task.sim.time] + list(task.sim.pose) + list(task.sim.v) + list(task.sim.angular_v) + list(rotor_speeds)\n",
    "        for ii in range(len(labels)):\n",
    "            results[labels[ii]].append(to_write[ii])\n",
    "        writer.writerow(to_write)\n",
    "        if done:\n",
    "            break"
   ]
  },
  {
   "cell_type": "markdown",
   "metadata": {},
   "source": [
    "Run the code cell below to visualize how the position of the quadcopter evolved during the simulation."
   ]
  },
  {
   "cell_type": "code",
   "execution_count": 66,
   "metadata": {},
   "outputs": [
    {
     "data": {
      "image/png": "[encoded data removed]",
      "text/plain": [
       "<matplotlib.figure.Figure at 0x7f773c980240>"
      ]
     },
     "metadata": {
      "needs_background": "light"
     },
     "output_type": "display_data"
    }
   ],
   "source": [
    "import matplotlib.pyplot as plt\n",
    "%matplotlib inline\n",
    "\n",
    "plt.plot(results['time'], results['x'], label='x')\n",
    "plt.plot(results['time'], results['y'], label='y')\n",
    "plt.plot(results['time'], results['z'], label='z')\n",
    "plt.legend()\n",
    "_ = plt.ylim()"
   ]
  },
  {
   "cell_type": "markdown",
   "metadata": {},
   "source": [
    "The next code cell visualizes the velocity of the quadcopter."
   ]
  },
  {
   "cell_type": "code",
   "execution_count": 67,
   "metadata": {},
   "outputs": [
    {
     "data": {
      "image/png": "[encoded data removed]",
      "text/plain": [
       "<matplotlib.figure.Figure at 0x7f7732625cc0>"
      ]
     },
     "metadata": {
      "needs_background": "light"
     },
     "output_type": "display_data"
    }
   ],
   "source": [
    "plt.plot(results['time'], results['x_velocity'], label='x_hat')\n",
    "plt.plot(results['time'], results['y_velocity'], label='y_hat')\n",
    "plt.plot(results['time'], results['z_velocity'], label='z_hat')\n",
    "plt.legend()\n",
    "_ = plt.ylim()"
   ]
  },
  {
   "cell_type": "markdown",
   "metadata": {},
   "source": [
    "Next, you can plot the Euler angles (the rotation of the quadcopter over the $x$-, $y$-, and $z$-axes),"
   ]
  },
  {
   "cell_type": "code",
   "execution_count": 68,
   "metadata": {},
   "outputs": [
    {
     "data": {
      "image/png": "[encoded data removed]",
      "text/plain": [
       "<matplotlib.figure.Figure at 0x7f77325ac710>"
      ]
     },
     "metadata": {
      "needs_background": "light"
     },
     "output_type": "display_data"
    }
   ],
   "source": [
    "plt.plot(results['time'], results['phi'], label='phi')\n",
    "plt.plot(results['time'], results['theta'], label='theta')\n",
    "plt.plot(results['time'], results['psi'], label='psi')\n",
    "plt.legend()\n",
    "_ = plt.ylim()"
   ]
  },
  {
   "cell_type": "markdown",
   "metadata": {},
   "source": [
    "before plotting the velocities (in radians per second) corresponding to each of the Euler angles."
   ]
  },
  {
   "cell_type": "code",
   "execution_count": 69,
   "metadata": {},
   "outputs": [
    {
     "data": {
      "image/png": "[encoded data removed]",
      "text/plain": [
       "<matplotlib.figure.Figure at 0x7f77325d9be0>"
      ]
     },
     "metadata": {
      "needs_background": "light"
     },
     "output_type": "display_data"
    }
   ],
   "source": [
    "plt.plot(results['time'], results['phi_velocity'], label='phi_velocity')\n",
    "plt.plot(results['time'], results['theta_velocity'], label='theta_velocity')\n",
    "plt.plot(results['time'], results['psi_velocity'], label='psi_velocity')\n",
    "plt.legend()\n",
    "_ = plt.ylim()"
   ]
  },
  {
   "cell_type": "markdown",
   "metadata": {},
   "source": [
    "Finally, you can use the code cell below to print the agent's choice of actions.  "
   ]
  },
  {
   "cell_type": "code",
   "execution_count": 70,
   "metadata": {},
   "outputs": [
    {
     "data": {
      "image/png": "[encoded data removed]",
      "text/plain": [
       "<matplotlib.figure.Figure at 0x7f77325ac7f0>"
      ]
     },
     "metadata": {
      "needs_background": "light"
     },
     "output_type": "display_data"
    }
   ],
   "source": [
    "plt.plot(results['time'], results['rotor_speed1'], label='Rotor 1 revolutions / second')\n",
    "plt.plot(results['time'], results['rotor_speed2'], label='Rotor 2 revolutions / second')\n",
    "plt.plot(results['time'], results['rotor_speed3'], label='Rotor 3 revolutions / second')\n",
    "plt.plot(results['time'], results['rotor_speed4'], label='Rotor 4 revolutions / second')\n",
    "plt.legend()\n",
    "_ = plt.ylim()"
   ]
  },
  {
   "cell_type": "markdown",
   "metadata": {},
   "source": [
    "When specifying a task, you will derive the environment state from the simulator.  Run the code cell below to print the values of the following variables at the end of the simulation:\n",
    "- `task.sim.pose` (the position of the quadcopter in ($x,y,z$) dimensions and the Euler angles),\n",
    "- `task.sim.v` (the velocity of the quadcopter in ($x,y,z$) dimensions), and\n",
    "- `task.sim.angular_v` (radians/second for each of the three Euler angles)."
   ]
  },
  {
   "cell_type": "code",
   "execution_count": 71,
   "metadata": {},
   "outputs": [
    {
     "name": "stdout",
     "output_type": "stream",
     "text": [
      "[  3.15507401  -0.91467483  31.97930805   5.90343643   0.03269718   0.        ]\n",
      "[ 0.72798849 -3.1907542   6.12637952]\n",
      "[-0.24114405 -0.0331323   0.        ]\n"
     ]
    }
   ],
   "source": [
    "# the pose, velocity, and angular velocity of the quadcopter at the end of the episode\n",
    "print(task.sim.pose)\n",
    "print(task.sim.v)\n",
    "print(task.sim.angular_v)"
   ]
  },
  {
   "cell_type": "markdown",
   "metadata": {},
   "source": [
    "In the sample task in `task.py`, we use the 6-dimensional pose of the quadcopter to construct the state of the environment at each timestep.  However, when amending the task for your purposes, you are welcome to expand the size of the state vector by including the velocity information.  You can use any combination of the pose, velocity, and angular velocity - feel free to tinker here, and construct the state to suit your task.\n",
    "\n",
    "## The Task\n",
    "\n",
    "A sample task has been provided for you in `task.py`.  Open this file in a new window now. \n",
    "\n",
    "The `__init__()` method is used to initialize several variables that are needed to specify the task.  \n",
    "- The simulator is initialized as an instance of the `PhysicsSim` class (from `physics_sim.py`).  \n",
    "- Inspired by the methodology in the original DDPG paper, we make use of action repeats.  For each timestep of the agent, we step the simulation `action_repeats` timesteps.  If you are not familiar with action repeats, please read the **Results** section in [the DDPG paper](https://arxiv.org/abs/1509.02971).\n",
    "- We set the number of elements in the state vector.  For the sample task, we only work with the 6-dimensional pose information.  To set the size of the state (`state_size`), we must take action repeats into account.  \n",
    "- The environment will always have a 4-dimensional action space, with one entry for each rotor (`action_size=4`). You can set the minimum (`action_low`) and maximum (`action_high`) values of each entry here.\n",
    "- The sample task in this provided file is for the agent to reach a target position.  We specify that target position as a variable.\n",
    "\n",
    "The `reset()` method resets the simulator.  The agent should call this method every time the episode ends.  You can see an example of this in the code cell below.\n",
    "\n",
    "The `step()` method is perhaps the most important.  It accepts the agent's choice of action `rotor_speeds`, which is used to prepare the next state to pass on to the agent.  Then, the reward is computed from `get_reward()`.  The episode is considered done if the time limit has been exceeded, or the quadcopter has travelled outside of the bounds of the simulation.\n",
    "\n",
    "In the next section, you will learn how to test the performance of an agent on this task."
   ]
  },
  {
   "cell_type": "markdown",
   "metadata": {},
   "source": [
    "## The Agent\n",
    "\n",
    "The sample agent given in `agents/policy_search.py` uses a very simplistic linear policy to directly compute the action vector as a dot product of the state vector and a matrix of weights. Then, it randomly perturbs the parameters by adding some Gaussian noise, to produce a different policy. Based on the average reward obtained in each episode (`score`), it keeps track of the best set of parameters found so far, how the score is changing, and accordingly tweaks a scaling factor to widen or tighten the noise.\n",
    "\n",
    "Run the code cell below to see how the agent performs on the sample task."
   ]
  },
  {
   "cell_type": "code",
   "execution_count": 73,
   "metadata": {},
   "outputs": [
    {
     "name": "stdout",
     "output_type": "stream",
     "text": [
      "Episode = 1000, score =   0.719 (best =   0.974), noise_scale = 3.2625"
     ]
    }
   ],
   "source": [
    "import sys\n",
    "import pandas as pd\n",
    "from agents.policy_search import PolicySearch_Agent\n",
    "from task import Task\n",
    "\n",
    "num_episodes = 1000\n",
    "target_pos = np.array([0., 0., 10.])\n",
    "task = Task(target_pos=target_pos)\n",
    "agent = PolicySearch_Agent(task) \n",
    "\n",
    "for i_episode in range(1, num_episodes+1):\n",
    "    state = agent.reset_episode() # start a new episode\n",
    "    while True:\n",
    "        action = agent.act(state) \n",
    "        next_state, reward, done = task.step(action)\n",
    "        agent.step(reward, done)\n",
    "        state = next_state\n",
    "        if done:\n",
    "            print(\"\\rEpisode = {:4d}, score = {:7.3f} (best = {:7.3f}), noise_scale = {}\".format(\n",
    "                i_episode, agent.score, agent.best_score, agent.noise_scale), end=\"\")  # [debug]\n",
    "            break\n",
    "    sys.stdout.flush()"
   ]
  },
  {
   "cell_type": "markdown",
   "metadata": {},
   "source": [
    "This agent should perform very poorly on this task.  And that's where you come in!"
   ]
  },
  {
   "cell_type": "markdown",
   "metadata": {
    "collapsed": true
   },
   "source": [
    "## Define the Task, Design the Agent, and Train Your Agent!\n",
    "\n",
    "Amend `task.py` to specify a task of your choosing.  If you're unsure what kind of task to specify, you may like to teach your quadcopter to takeoff, hover in place, land softly, or reach a target pose.  \n",
    "\n",
    "After specifying your task, use the sample agent in `agents/policy_search.py` as a template to define your own agent in `agents/agent.py`.  You can borrow whatever you need from the sample agent, including ideas on how you might modularize your code (using helper methods like `act()`, `learn()`, `reset_episode()`, etc.).\n",
    "\n",
    "Note that it is **highly unlikely** that the first agent and task that you specify will learn well.  You will likely have to tweak various hyperparameters and the reward function for your task until you arrive at reasonably good behavior.\n",
    "\n",
    "As you develop your agent, it's important to keep an eye on how it's performing. Use the code above as inspiration to build in a mechanism to log/save the total rewards obtained in each episode to file.  If the episode rewards are gradually increasing, this is an indication that your agent is learning."
   ]
  },
  {
   "cell_type": "code",
   "execution_count": 74,
   "metadata": {},
   "outputs": [
    {
     "name": "stdout",
     "output_type": "stream",
     "text": [
      "\n",
      "Ep=   1, score=  0.000 (best=   -inf) pos=-0.0 0.0 0.0\n",
      "Ep=   2, score=  0.000 (best=   -inf) pos=-0.0 -0.0 0.0\n",
      "Ep=   3, score=  0.000 (best=   -inf) pos=0.0 0.0 0.0\n",
      "Ep=   4, score=  0.000 (best=   -inf) pos=0.0 0.0 0.0\n",
      "Ep=   5, score=  0.000 (best=   -inf) pos=0.0 0.0 0.0\n",
      "Ep=   6, score=  0.000 (best=   -inf) pos=-0.0 0.0 0.0\n",
      "Ep=   7, score=  0.000 (best=   -inf) pos=-0.0 0.0 0.0\n",
      "Ep=   8, score=  0.000 (best=   -inf) pos=-0.0 -0.0 0.0\n",
      "Ep=   9, score=  0.000 (best=   -inf) pos=0.0 -0.0 0.0\n",
      "Ep=  10, score=  0.000 (best=   -inf) pos=-0.0 -0.0 0.0\n",
      "Ep=  11, score=  0.000 (best=   -inf) pos=-0.0 -0.0 0.0\n",
      "Ep=  12, score=  0.000 (best=   -inf) pos=-0.0 0.0 0.0\n",
      "Ep=  13, score=  0.000 (best=   -inf) pos=0.0 -0.0 0.0\n",
      "Ep=  14, score=  0.000 (best=   -inf) pos=0.0 -0.0 0.0\n",
      "Ep=  15, score=  0.000 (best=   -inf) pos=0.0 -0.0 0.0\n",
      "Ep=  16, score=  0.000 (best=   -inf) pos=-0.0 -0.0 0.0\n",
      "Ep=  17, score=  0.000 (best=   -inf) pos=0.0 -0.0 0.0\n",
      "Ep=  18, score=  0.000 (best=   -inf) pos=0.0 -0.0 0.0\n",
      "Ep=  19, score=  0.000 (best=   -inf) pos=0.0 0.0 0.0\n",
      "Ep=  20, score=  0.000 (best=   -inf) pos=0.0 -0.0 0.0\n",
      "Ep=  21, score=  0.000 (best=   -inf) pos=0.0 0.0 0.0\n",
      "Ep=  22, score=  0.000 (best=   -inf) pos=0.0 0.0 0.0\n",
      "Ep=  23, score=  0.000 (best=   -inf) pos=0.0 -0.0 0.0\n",
      "Ep=  24, score=  0.000 (best=   -inf) pos=-0.0 -0.0 0.0\n",
      "Ep=  25, score=  0.000 (best=   -inf) pos=-0.0 0.0 0.0\n",
      "Ep=  26, score=  0.000 (best=   -inf) pos=-0.0 0.0 0.0\n",
      "Ep=  27, score=  0.000 (best=   -inf) pos=0.0 -0.0 0.0\n",
      "Ep=  28, score=  0.000 (best=   -inf) pos=0.0 -0.0 0.0\n",
      "Ep=  29, score=  0.000 (best=   -inf) pos=-0.0 0.0 0.0\n",
      "Ep=  30, score=  0.000 (best=   -inf) pos=0.0 0.0 0.0\n",
      "Ep=  31, score=  0.000 (best=   -inf) pos=-0.0 -0.0 0.0\n",
      "Ep=  32, score=  0.000 (best=   -inf) pos=-0.0 -0.0 0.0\n",
      "Ep=  33, score=  0.000 (best=   -inf) pos=0.0 0.0 0.0\n",
      "Ep=  34, score=  0.000 (best=   -inf) pos=-0.0 -0.0 0.0\n",
      "Ep=  35, score=  0.000 (best=   -inf) pos=0.0 -0.0 0.0\n",
      "Ep=  36, score=  0.000 (best=   -inf) pos=-0.0 -0.0 0.0\n",
      "Ep=  37, score=  0.000 (best=   -inf) pos=0.0 0.0 0.0\n",
      "Ep=  38, score=  0.000 (best=   -inf) pos=-0.0 0.0 0.0\n",
      "Ep=  39, score=  0.000 (best=   -inf) pos=-0.0 -0.0 0.0\n",
      "Ep=  40, score=  0.000 (best=   -inf) pos=0.0 0.0 0.0\n",
      "Ep=  41, score=  0.000 (best=   -inf) pos=0.0 -0.0 0.0\n",
      "Ep=  42, score=  0.000 (best=   -inf) pos=-0.0 -0.0 0.0\n",
      "Ep=  43, score=  0.000 (best=   -inf) pos=0.0 -0.0 0.0\n",
      "Ep=  44, score=  0.000 (best=   -inf) pos=0.0 -0.0 0.0\n",
      "Ep=  45, score=  0.000 (best=   -inf) pos=-0.0 -0.0 0.0\n",
      "Ep=  46, score=  0.000 (best=   -inf) pos=-0.0 -0.0 0.0\n",
      "Ep=  47, score=  0.000 (best=   -inf) pos=-0.0 0.0 0.0\n",
      "Ep=  48, score=  0.000 (best=   -inf) pos=0.0 -0.0 0.0\n",
      "Ep=  49, score=  0.000 (best=   -inf) pos=0.0 -0.0 0.0\n",
      "Ep=  50, score=  0.000 (best=   -inf) pos=-0.0 -0.0 0.0\n",
      "Ep=  51, score=  0.000 (best=   -inf) pos=-0.0 0.0 0.0\n",
      "Ep=  52, score=  0.000 (best=   -inf) pos=-0.0 -0.0 0.0\n",
      "Ep=  53, score=  0.000 (best=   -inf) pos=0.0 0.0 0.0\n",
      "Ep=  54, score=  0.000 (best=   -inf) pos=0.0 0.0 0.0\n",
      "Ep=  55, score=  0.000 (best=   -inf) pos=0.0 0.0 0.0\n",
      "Ep=  56, score=  0.000 (best=   -inf) pos=-0.0 -0.0 0.0\n",
      "Ep=  57, score=  0.000 (best=   -inf) pos=-0.0 0.0 0.0\n",
      "Ep=  58, score=  0.000 (best=   -inf) pos=0.0 0.0 0.0\n",
      "Ep=  59, score=  0.000 (best=   -inf) pos=0.0 -0.0 0.0\n",
      "Ep=  60, score=  0.000 (best=   -inf) pos=-0.0 0.0 0.0\n",
      "Ep=  61, score=  0.000 (best=   -inf) pos=0.0 -0.0 0.0\n",
      "Ep=  62, score=  0.000 (best=   -inf) pos=-0.0 -0.0 0.0\n",
      "Ep=  63, score=  0.000 (best=   -inf) pos=0.0 -0.0 0.0\n",
      "Ep=  64, score=  0.000 (best=   -inf) pos=-0.0 -0.0 0.0\n",
      "Ep=  65, score=  0.000 (best=  0.000) pos=0.0 -0.0 0.0\n",
      "Ep=  66, score=  0.000 (best=  0.000) pos=0.0 0.0 0.0\n",
      "Ep=  67, score=  0.000 (best=  0.000) pos=0.0 -0.0 0.0\n",
      "Ep=  68, score=  0.000 (best=  0.000) pos=0.0 0.0 0.0\n",
      "Ep=  69, score=  0.000 (best=  0.000) pos=0.0 0.0 0.0\n",
      "Ep=  70, score=  0.000 (best=  0.000) pos=0.0 0.0 0.0\n",
      "Ep=  71, score=  0.000 (best=  0.000) pos=0.0 0.0 0.0\n",
      "Ep=  72, score=  0.000 (best=  0.000) pos=0.0 0.0 0.0\n",
      "Ep=  73, score=  0.000 (best=  0.000) pos=0.0 0.0 0.0\n",
      "Ep=  74, score=  0.000 (best=  0.000) pos=0.0 0.0 0.0\n",
      "Ep=  75, score=  0.000 (best=  0.000) pos=0.0 0.0 0.0\n",
      "Ep=  76, score=  0.000 (best=  0.000) pos=0.0 0.0 0.0\n",
      "Ep=  77, score=  0.000 (best=  0.000) pos=0.0 0.0 0.0\n",
      "Ep=  78, score=  0.000 (best=  0.000) pos=0.0 0.0 0.0\n",
      "Ep=  79, score=  0.000 (best=  0.000) pos=0.0 0.0 0.0\n",
      "Ep=  80, score=  0.000 (best=  0.000) pos=0.0 0.0 0.0\n",
      "Ep=  81, score=  0.000 (best=  0.000) pos=0.0 0.0 0.0\n",
      "Ep=  82, score=  0.000 (best=  0.000) pos=0.0 0.0 0.0\n",
      "Ep=  83, score=  0.000 (best=  0.000) pos=0.0 0.0 0.0\n",
      "Ep=  84, score=  0.000 (best=  0.000) pos=0.0 0.0 0.0\n",
      "Ep=  85, score=  0.000 (best=  0.000) pos=0.0 0.0 0.0\n",
      "Ep=  86, score=  0.000 (best=  0.000) pos=-0.0 0.0 0.0\n",
      "Ep=  87, score=  0.000 (best=  0.000) pos=0.0 0.0 0.0\n",
      "Ep=  88, score=  0.000 (best=  0.000) pos=-0.0 0.0 0.0\n",
      "Ep=  89, score=  0.000 (best=  0.000) pos=-0.0 0.0 0.0\n",
      "Ep=  90, score=  0.000 (best=  0.000) pos=-0.0 0.0 0.0\n",
      "Ep=  91, score=  0.000 (best=  0.000) pos=-0.0 0.0 0.0\n",
      "Ep=  92, score=  0.000 (best=  0.000) pos=-0.0 0.0 0.0\n",
      "Ep=  93, score=  0.000 (best=  0.000) pos=-0.0 0.0 0.0\n",
      "Ep=  94, score=  0.000 (best=  0.000) pos=-0.0 0.0 0.0\n",
      "Ep=  95, score=  0.000 (best=  0.000) pos=-0.0 0.0 0.0\n",
      "Ep=  96, score=  0.000 (best=  0.000) pos=-0.0 0.0 0.0\n",
      "Ep=  97, score=  0.000 (best=  0.000) pos=-0.0 0.0 0.0\n",
      "Ep=  98, score=  0.000 (best=  0.000) pos=-0.0 0.0 0.0\n",
      "Ep=  99, score=  0.000 (best=  0.000) pos=-0.0 0.0 0.0\n",
      "Ep= 100, score=  0.000 (best=  0.000) pos=-0.0 0.0 0.0\n",
      "Ep= 101, score=  0.000 (best=  0.000) pos=-0.0 0.0 0.0\n",
      "Ep= 102, score=  0.000 (best=  0.000) pos=-0.0 0.0 0.0\n",
      "Ep= 103, score=  0.000 (best=  0.000) pos=-0.0 0.0 0.0\n",
      "Ep= 104, score=  0.000 (best=  0.000) pos=-0.0 0.0 0.0\n",
      "Ep= 105, score=  0.000 (best=  0.000) pos=-0.0 0.0 0.0\n",
      "Ep= 106, score=  0.000 (best=  0.000) pos=-0.0 0.0 0.0\n",
      "Ep= 107, score=  0.000 (best=  0.000) pos=-0.0 0.0 0.0\n",
      "Ep= 108, score=  0.000 (best=  0.000) pos=-0.0 0.0 0.0\n",
      "Ep= 109, score=  0.000 (best=  0.000) pos=-0.0 0.0 0.0\n",
      "Ep= 110, score=  0.000 (best=  0.000) pos=-0.0 0.0 0.0\n",
      "Ep= 111, score=  0.000 (best=  0.000) pos=-0.0 0.0 0.0\n",
      "Ep= 112, score=  0.000 (best=  0.000) pos=-0.0 0.0 0.0\n",
      "Ep= 113, score=  0.000 (best=  0.000) pos=-0.0 0.0 0.0\n",
      "Ep= 114, score=  0.000 (best=  0.000) pos=-0.0 0.0 0.0\n",
      "Ep= 115, score=  0.000 (best=  0.000) pos=-0.0 0.0 0.0\n",
      "Ep= 116, score=  0.000 (best=  0.000) pos=-0.0 0.0 0.0\n",
      "Ep= 117, score=  0.000 (best=  0.000) pos=-0.0 0.0 0.0\n",
      "Ep= 118, score=  0.000 (best=  0.000) pos=-0.0 0.0 0.0\n",
      "Ep= 119, score=  0.000 (best=  0.000) pos=-0.0 0.0 0.0\n",
      "Ep= 120, score=  0.000 (best=  0.000) pos=-0.0 0.0 0.0\n",
      "Ep= 121, score=  0.000 (best=  0.000) pos=-0.0 0.0 0.0\n",
      "Ep= 122, score=  0.000 (best=  0.000) pos=-0.0 0.0 0.0\n",
      "Ep= 123, score=  0.000 (best=  0.000) pos=-0.0 0.0 0.0\n",
      "Ep= 124, score=  0.000 (best=  0.000) pos=-0.0 0.0 0.0\n",
      "Ep= 125, score=  0.000 (best=  0.000) pos=-0.0 0.0 0.0\n",
      "Ep= 126, score=  0.000 (best=  0.000) pos=-0.0 0.0 0.0\n",
      "Ep= 127, score=  0.000 (best=  0.000) pos=-0.0 0.0 0.0\n",
      "Ep= 128, score=  0.000 (best=  0.000) pos=-0.0 0.0 0.0\n",
      "Ep= 129, score=  0.000 (best=  0.000) pos=-0.0 0.0 0.0\n",
      "Ep= 130, score=  0.000 (best=  0.000) pos=-0.0 0.0 0.0\n",
      "Ep= 131, score=  0.000 (best=  0.000) pos=-0.0 0.0 0.0\n",
      "Ep= 132, score=  0.000 (best=  0.000) pos=-0.0 0.0 0.0\n",
      "Ep= 133, score=  0.000 (best=  0.000) pos=-0.0 0.0 0.0\n",
      "Ep= 134, score=  0.000 (best=  0.000) pos=-0.0 0.0 0.0\n",
      "Ep= 135, score=  0.000 (best=  0.000) pos=-0.0 0.0 0.0\n",
      "Ep= 136, score=  0.000 (best=  0.000) pos=-0.0 0.0 0.0\n",
      "Ep= 137, score=  0.000 (best=  0.000) pos=-0.0 0.0 0.0\n",
      "Ep= 138, score=  0.000 (best=  0.000) pos=-0.0 0.0 0.0\n",
      "Ep= 139, score=  0.000 (best=  0.000) pos=-0.0 0.0 0.0\n",
      "Ep= 140, score=  0.000 (best=  0.000) pos=-0.0 0.0 0.0\n",
      "Ep= 141, score=  0.000 (best=  0.000) pos=-0.0 0.0 0.0\n",
      "Ep= 142, score=  0.000 (best=  0.000) pos=-0.0 0.0 0.0\n",
      "Ep= 143, score=  0.000 (best=  0.000) pos=-0.0 0.0 0.0\n",
      "Ep= 144, score=  0.000 (best=  0.000) pos=-0.0 0.0 0.0\n",
      "Ep= 145, score=  0.000 (best=  0.000) pos=-0.0 0.0 0.0\n",
      "Ep= 146, score=  0.000 (best=  0.000) pos=-0.0 0.0 0.0\n",
      "Ep= 147, score=  0.000 (best=  0.000) pos=-0.0 0.0 0.0\n",
      "Ep= 148, score=  0.000 (best=  0.000) pos=-0.0 0.0 0.0\n",
      "Ep= 149, score=  0.000 (best=  0.000) pos=-0.0 0.0 0.0\n",
      "Ep= 150, score=  0.000 (best=  0.000) pos=-0.0 0.0 0.0\n",
      "Ep= 151, score=  0.000 (best=  0.000) pos=-0.0 0.0 0.0\n",
      "Ep= 152, score=  0.000 (best=  0.000) pos=-0.0 0.0 0.0\n",
      "Ep= 153, score=  0.000 (best=  0.000) pos=-0.0 0.0 0.0\n",
      "Ep= 154, score=  0.000 (best=  0.000) pos=-0.0 0.0 0.0\n",
      "Ep= 155, score=  0.000 (best=  0.000) pos=-0.0 0.0 0.0\n",
      "Ep= 156, score=  0.000 (best=  0.000) pos=-0.0 0.0 0.0\n",
      "Ep= 157, score=  0.000 (best=  0.000) pos=-0.0 0.0 0.0\n",
      "Ep= 158, score=  0.000 (best=  0.000) pos=-0.0 0.0 0.0\n",
      "Ep= 159, score=  0.000 (best=  0.000) pos=-0.0 0.0 0.0\n",
      "Ep= 160, score=  0.000 (best=  0.000) pos=-0.0 0.0 0.0\n",
      "Ep= 161, score=  0.000 (best=  0.000) pos=-0.0 0.0 0.0\n",
      "Ep= 162, score=  0.000 (best=  0.000) pos=-0.0 0.0 0.0\n",
      "Ep= 163, score=  0.000 (best=  0.000) pos=-0.0 0.0 0.0\n",
      "Ep= 164, score=  0.000 (best=  0.000) pos=-0.0 0.0 0.0\n",
      "Ep= 165, score=  0.000 (best=  0.000) pos=-0.0 0.0 0.0\n",
      "Ep= 166, score=  0.000 (best=  0.000) pos=-0.0 0.0 0.0\n",
      "Ep= 167, score=  0.000 (best=  0.000) pos=-0.0 0.0 0.0\n",
      "Ep= 168, score=  0.000 (best=  0.000) pos=-0.0 0.0 0.0\n",
      "Ep= 169, score=  0.000 (best=  0.000) pos=-0.0 0.0 0.0\n",
      "Ep= 170, score=  0.000 (best=  0.000) pos=-0.0 0.0 0.0\n",
      "Ep= 171, score=  0.000 (best=  0.000) pos=-0.0 0.0 0.0\n",
      "Ep= 172, score=  0.000 (best=  0.000) pos=-0.0 0.0 0.0\n",
      "Ep= 173, score=  0.000 (best=  0.000) pos=-0.0 0.0 0.0\n",
      "Ep= 174, score=  0.000 (best=  0.000) pos=-0.0 0.0 0.0\n",
      "Ep= 175, score=  0.000 (best=  0.000) pos=-0.0 0.0 0.0\n",
      "Ep= 176, score=  0.000 (best=  0.000) pos=-0.0 0.0 0.0\n",
      "Ep= 177, score=  0.000 (best=  0.000) pos=-0.0 0.0 0.0\n",
      "Ep= 178, score=  0.000 (best=  0.000) pos=-0.0 0.0 0.0\n",
      "Ep= 179, score=  0.000 (best=  0.000) pos=-0.0 0.0 0.0\n",
      "Ep= 180, score=  0.000 (best=  0.000) pos=-0.0 0.0 0.0\n",
      "Ep= 181, score=  0.000 (best=  0.000) pos=-0.0 0.0 0.0\n",
      "Ep= 182, score=  0.000 (best=  0.000) pos=-0.0 0.0 0.0\n",
      "Ep= 183, score=  0.000 (best=  0.000) pos=-0.0 0.0 0.0\n",
      "Ep= 184, score=  0.000 (best=  0.000) pos=-0.0 0.0 0.0\n",
      "Ep= 185, score=  0.000 (best=  0.000) pos=-0.0 0.0 0.0\n",
      "Ep= 186, score=  0.000 (best=  0.000) pos=-0.0 0.0 0.0\n",
      "Ep= 187, score=  0.000 (best=  0.000) pos=-0.0 0.0 0.0\n",
      "Ep= 188, score=  0.000 (best=  0.000) pos=-0.0 0.0 0.0\n",
      "Ep= 189, score=  0.000 (best=  0.000) pos=-0.0 0.0 0.0\n",
      "Ep= 190, score=  0.000 (best=  0.000) pos=-0.0 0.0 0.0\n",
      "Ep= 191, score=  0.000 (best=  0.000) pos=-0.0 0.0 0.0\n",
      "Ep= 192, score=  0.000 (best=  0.000) pos=-0.0 0.0 0.0\n",
      "Ep= 193, score=  0.000 (best=  0.000) pos=-0.0 0.0 0.0\n",
      "Ep= 194, score=  0.000 (best=  0.000) pos=-0.0 0.0 0.0\n",
      "Ep= 195, score=  0.000 (best=  0.000) pos=-0.0 0.0 0.0\n",
      "Ep= 196, score=  0.000 (best=  0.000) pos=-0.0 0.0 0.0\n",
      "Ep= 197, score=  0.000 (best=  0.000) pos=-0.0 0.0 0.0\n",
      "Ep= 198, score=  0.000 (best=  0.000) pos=-0.0 0.0 0.0\n",
      "Ep= 199, score=  0.000 (best=  0.000) pos=-0.0 0.0 0.0\n",
      "Ep= 200, score=  0.000 (best=  0.000) pos=-0.0 0.0 0.0\n",
      "Ep= 201, score=  0.000 (best=  0.000) pos=-0.0 0.0 0.0\n",
      "Ep= 202, score=  0.000 (best=  0.000) pos=-0.0 0.0 0.0\n",
      "Ep= 203, score=  0.000 (best=  0.000) pos=-0.0 0.0 0.0\n",
      "Ep= 204, score=  0.000 (best=  0.000) pos=-0.0 0.0 0.0\n",
      "Ep= 205, score=  0.000 (best=  0.000) pos=-0.0 0.0 0.0\n",
      "Ep= 206, score=  0.000 (best=  0.000) pos=-0.0 0.0 0.0\n",
      "Ep= 207, score=  0.000 (best=  0.000) pos=-0.0 0.0 0.0\n",
      "Ep= 208, score=  0.000 (best=  0.000) pos=-0.0 0.0 0.0\n",
      "Ep= 209, score=  0.000 (best=  0.000) pos=-0.0 0.0 0.0\n",
      "Ep= 210, score=  0.000 (best=  0.000) pos=-0.0 0.0 0.0\n",
      "Ep= 211, score=  0.000 (best=  0.000) pos=-0.0 0.0 0.0\n",
      "Ep= 212, score=  0.000 (best=  0.000) pos=-0.0 0.0 0.0\n",
      "Ep= 213, score=  0.000 (best=  0.000) pos=-0.0 0.0 0.0\n",
      "Ep= 214, score=  0.000 (best=  0.000) pos=-0.0 0.0 0.0\n",
      "Ep= 215, score=  0.000 (best=  0.000) pos=-0.0 0.0 0.0\n",
      "Ep= 216, score=  0.000 (best=  0.000) pos=-0.0 0.0 0.0\n",
      "Ep= 217, score=  0.000 (best=  0.000) pos=-0.0 0.0 0.0\n",
      "Ep= 218, score=  0.000 (best=  0.000) pos=-0.0 0.0 0.0\n",
      "Ep= 219, score=  0.000 (best=  0.000) pos=-0.0 0.0 0.0\n",
      "Ep= 220, score=  0.000 (best=  0.000) pos=-0.0 0.0 0.0\n",
      "Ep= 221, score=  0.000 (best=  0.000) pos=-0.0 0.0 0.0\n",
      "Ep= 222, score=  0.000 (best=  0.000) pos=-0.0 0.0 0.0\n",
      "Ep= 223, score=  0.000 (best=  0.000) pos=-0.0 0.0 0.0\n",
      "Ep= 224, score=  0.000 (best=  0.000) pos=-0.0 0.0 0.0\n",
      "Ep= 225, score=  0.000 (best=  0.000) pos=-0.0 0.0 0.0\n",
      "Ep= 226, score=  0.000 (best=  0.000) pos=-0.0 0.0 0.0\n",
      "Ep= 227, score=  0.000 (best=  0.000) pos=-0.0 0.0 0.0\n",
      "Ep= 228, score=  0.000 (best=  0.000) pos=-0.0 0.0 0.0\n",
      "Ep= 229, score=  0.000 (best=  0.000) pos=-0.0 0.0 0.0\n",
      "Ep= 230, score=  0.000 (best=  0.000) pos=-0.0 0.0 0.0\n",
      "Ep= 231, score=  0.000 (best=  0.000) pos=-0.0 0.0 0.0\n",
      "Ep= 232, score=  0.000 (best=  0.000) pos=-0.0 0.0 0.0\n",
      "Ep= 233, score=  0.000 (best=  0.000) pos=-0.0 0.0 0.0\n",
      "Ep= 234, score=  0.000 (best=  0.000) pos=-0.0 0.0 0.0\n",
      "Ep= 235, score=  0.000 (best=  0.000) pos=-0.0 0.0 0.0\n",
      "Ep= 236, score=  0.000 (best=  0.000) pos=-0.0 0.0 0.0\n",
      "Ep= 237, score=  0.000 (best=  0.000) pos=-0.0 0.0 0.0\n",
      "Ep= 238, score=  0.000 (best=  0.000) pos=-0.0 0.0 0.0\n",
      "Ep= 239, score=  0.000 (best=  0.000) pos=-0.0 0.0 0.0\n",
      "Ep= 240, score=  0.000 (best=  0.000) pos=-0.0 0.0 0.0\n",
      "Ep= 241, score=  0.000 (best=  0.000) pos=-0.0 0.0 0.0\n",
      "Ep= 242, score=  0.000 (best=  0.000) pos=-0.0 0.0 0.0\n",
      "Ep= 243, score=  0.000 (best=  0.000) pos=-0.0 0.0 0.0\n",
      "Ep= 244, score=  0.000 (best=  0.000) pos=-0.0 0.0 0.0\n",
      "Ep= 245, score=  0.000 (best=  0.000) pos=-0.0 0.0 0.0\n",
      "Ep= 246, score=  0.000 (best=  0.000) pos=-0.0 0.0 0.0\n",
      "Ep= 247, score=  0.000 (best=  0.000) pos=-0.0 0.0 0.0\n",
      "Ep= 248, score=  0.000 (best=  0.000) pos=-0.0 0.0 0.0\n",
      "Ep= 249, score=  0.000 (best=  0.000) pos=-0.0 0.0 0.0\n",
      "Ep= 250, score=  0.000 (best=  0.000) pos=-0.0 0.0 0.0\n",
      "Ep= 251, score=  0.000 (best=  0.000) pos=-0.0 0.0 0.0\n",
      "Ep= 252, score=  0.000 (best=  0.000) pos=-0.0 0.0 0.0\n",
      "Ep= 253, score=  0.000 (best=  0.000) pos=-0.0 0.0 0.0\n",
      "Ep= 254, score=  0.000 (best=  0.000) pos=-0.0 0.0 0.0\n",
      "Ep= 255, score=  0.000 (best=  0.000) pos=-0.0 0.0 0.0\n",
      "Ep= 256, score=  0.000 (best=  0.000) pos=-0.0 0.0 0.0\n",
      "Ep= 257, score=  0.000 (best=  0.000) pos=-0.0 0.0 0.0\n",
      "Ep= 258, score=  0.000 (best=  0.000) pos=-0.0 0.0 0.0\n",
      "Ep= 259, score=  0.000 (best=  0.000) pos=-0.0 0.0 0.0\n",
      "Ep= 260, score=  0.000 (best=  0.000) pos=-0.0 0.0 0.0\n",
      "Ep= 261, score=  0.000 (best=  0.000) pos=-0.0 0.0 0.0\n",
      "Ep= 262, score=  0.000 (best=  0.000) pos=-0.0 0.0 0.0\n",
      "Ep= 263, score=  0.000 (best=  0.000) pos=-0.0 0.0 0.0\n",
      "Ep= 264, score=  0.000 (best=  0.000) pos=-0.0 0.0 0.0\n",
      "Ep= 265, score=  0.000 (best=  0.000) pos=-0.0 0.0 0.0\n",
      "Ep= 266, score=  0.000 (best=  0.000) pos=-0.0 0.0 0.0\n",
      "Ep= 267, score=  0.000 (best=  0.000) pos=-0.0 0.0 0.0\n",
      "Ep= 268, score=  0.000 (best=  0.000) pos=-0.0 0.0 0.0\n",
      "Ep= 269, score=  0.000 (best=  0.000) pos=-0.0 0.0 0.0\n",
      "Ep= 270, score=  0.000 (best=  0.000) pos=-0.0 0.0 0.0\n",
      "Ep= 271, score=  0.000 (best=  0.000) pos=-0.0 0.0 0.0\n",
      "Ep= 272, score=  0.000 (best=  0.000) pos=-0.0 0.0 0.0\n",
      "Ep= 273, score=  0.000 (best=  0.000) pos=-0.0 0.0 0.0\n",
      "Ep= 274, score=  0.000 (best=  0.000) pos=-0.0 0.0 0.0\n",
      "Ep= 275, score=  0.000 (best=  0.000) pos=-0.0 0.0 0.0\n",
      "Ep= 276, score=  0.000 (best=  0.000) pos=-0.0 0.0 0.0\n",
      "Ep= 277, score=  0.000 (best=  0.000) pos=-0.0 0.0 0.0\n",
      "Ep= 278, score=  0.000 (best=  0.000) pos=-0.0 0.0 0.0\n",
      "Ep= 279, score=  0.000 (best=  0.000) pos=-0.0 0.0 0.0\n",
      "Ep= 280, score=  0.000 (best=  0.000) pos=-0.0 0.0 0.0\n",
      "Ep= 281, score=  0.000 (best=  0.000) pos=-0.0 0.0 0.0\n",
      "Ep= 282, score=  0.000 (best=  0.000) pos=-0.0 0.0 0.0\n",
      "Ep= 283, score=  0.000 (best=  0.000) pos=-0.0 0.0 0.0\n",
      "Ep= 284, score=  0.000 (best=  0.000) pos=-0.0 0.0 0.0\n",
      "Ep= 285, score=  0.000 (best=  0.000) pos=-0.0 0.0 0.0\n",
      "Ep= 286, score=  0.000 (best=  0.000) pos=-0.0 0.0 0.0\n",
      "Ep= 287, score=  0.000 (best=  0.000) pos=-0.0 0.0 0.0\n",
      "Ep= 288, score=  0.000 (best=  0.000) pos=-0.0 0.0 0.0\n",
      "Ep= 289, score=  0.000 (best=  0.000) pos=-0.0 0.0 0.0\n",
      "Ep= 290, score=  0.000 (best=  0.000) pos=-0.0 0.0 0.0\n",
      "Ep= 291, score=  0.000 (best=  0.000) pos=-0.0 0.0 0.0\n",
      "Ep= 292, score=  0.000 (best=  0.000) pos=-0.0 0.0 0.0\n",
      "Ep= 293, score=  0.000 (best=  0.000) pos=-0.0 0.0 0.0\n",
      "Ep= 294, score=  0.000 (best=  0.000) pos=-0.0 0.0 0.0\n",
      "Ep= 295, score=  0.000 (best=  0.000) pos=-0.0 0.0 0.0\n",
      "Ep= 296, score=  0.000 (best=  0.000) pos=-0.0 0.0 0.0\n",
      "Ep= 297, score=  0.000 (best=  0.000) pos=-0.0 0.0 0.0\n"
     ]
    },
    {
     "name": "stdout",
     "output_type": "stream",
     "text": [
      "Ep= 298, score=  0.000 (best=  0.000) pos=-0.0 0.0 0.0\n",
      "Ep= 299, score=  0.000 (best=  0.000) pos=-0.0 0.0 0.0\n",
      "Ep= 300, score=  0.000 (best=  0.000) pos=-0.0 0.0 0.0\n",
      "Ep= 301, score=  0.000 (best=  0.000) pos=-0.0 0.0 0.0\n",
      "Ep= 302, score=  0.000 (best=  0.000) pos=-0.0 0.0 0.0\n",
      "Ep= 303, score=  0.000 (best=  0.000) pos=-0.0 0.0 0.0\n",
      "Ep= 304, score=  0.000 (best=  0.000) pos=-0.0 0.0 0.0\n",
      "Ep= 305, score=  0.000 (best=  0.000) pos=-0.0 0.0 0.0\n",
      "Ep= 306, score=  0.000 (best=  0.000) pos=-0.0 0.0 0.0\n",
      "Ep= 307, score=  0.000 (best=  0.000) pos=-0.0 0.0 0.0\n",
      "Ep= 308, score=  0.000 (best=  0.000) pos=-0.0 0.0 0.0\n",
      "Ep= 309, score=  0.000 (best=  0.000) pos=-0.0 0.0 0.0\n",
      "Ep= 310, score=  0.000 (best=  0.000) pos=-0.0 0.0 0.0\n",
      "Ep= 311, score=  0.000 (best=  0.000) pos=-0.0 -0.0 0.0\n",
      "Ep= 312, score=  0.000 (best=  0.000) pos=-0.0 -0.0 0.0\n",
      "Ep= 313, score=  0.000 (best=  0.000) pos=-0.0 -0.0 0.0\n",
      "Ep= 314, score=  0.000 (best=  0.000) pos=-0.0 -0.0 0.0\n",
      "Ep= 315, score=  0.000 (best=  0.000) pos=-0.0 -0.0 0.0\n",
      "Ep= 316, score=  0.000 (best=  0.000) pos=-0.0 -0.0 0.0\n",
      "Ep= 317, score=  0.000 (best=  0.000) pos=-0.0 -0.0 0.0\n",
      "Ep= 318, score=  0.000 (best=  0.000) pos=-0.0 -0.0 0.0\n",
      "Ep= 319, score=  0.000 (best=  0.000) pos=-0.0 -0.0 0.0\n",
      "Ep= 320, score=  0.000 (best=  0.000) pos=-0.0 -0.0 0.0\n",
      "Ep= 321, score=  0.000 (best=  0.000) pos=-0.0 -0.0 0.0\n",
      "Ep= 322, score=  0.000 (best=  0.000) pos=-0.0 -0.0 0.0\n",
      "Ep= 323, score=  0.000 (best=  0.000) pos=-0.0 -0.0 0.0\n",
      "Ep= 324, score=  0.000 (best=  0.000) pos=-0.0 -0.0 0.0\n",
      "Ep= 325, score=  0.000 (best=  0.000) pos=-0.0 -0.0 0.0\n",
      "Ep= 326, score=  0.000 (best=  0.000) pos=-0.0 -0.0 0.0\n",
      "Ep= 327, score=  0.000 (best=  0.000) pos=-0.0 -0.0 0.0\n",
      "Ep= 328, score=  0.000 (best=  0.000) pos=-0.0 -0.0 0.0\n",
      "Ep= 329, score=  0.000 (best=  0.000) pos=-0.0 -0.0 0.0\n",
      "Ep= 330, score=  0.000 (best=  0.000) pos=-0.0 0.0 0.0\n",
      "Ep= 331, score=  0.000 (best=  0.000) pos=-0.0 0.0 0.0\n",
      "Ep= 332, score=  0.000 (best=  0.000) pos=-0.0 0.0 0.0\n",
      "Ep= 333, score=  0.000 (best=  0.000) pos=-0.0 0.0 0.0\n",
      "Ep= 334, score=  0.000 (best=  0.000) pos=-0.0 0.0 0.0\n",
      "Ep= 335, score=  0.000 (best=  0.000) pos=-0.0 0.0 0.0\n",
      "Ep= 336, score=  0.000 (best=  0.000) pos=-0.0 0.0 0.0\n",
      "Ep= 337, score=  0.000 (best=  0.000) pos=-0.0 0.0 0.0\n",
      "Ep= 338, score=  0.000 (best=  0.000) pos=-0.0 0.0 0.0\n",
      "Ep= 339, score=  0.000 (best=  0.000) pos=-0.0 0.0 0.0\n",
      "Ep= 340, score=  0.000 (best=  0.000) pos=-0.0 0.0 0.0\n",
      "Ep= 341, score=  0.000 (best=  0.000) pos=-0.0 0.0 0.0\n",
      "Ep= 342, score=  0.000 (best=  0.000) pos=-0.0 0.0 0.0\n",
      "Ep= 343, score=  0.000 (best=  0.000) pos=-0.0 0.0 0.0\n",
      "Ep= 344, score=  0.000 (best=  0.000) pos=-0.0 0.0 0.0\n",
      "Ep= 345, score=  0.000 (best=  0.000) pos=-0.0 0.0 0.0\n",
      "Ep= 346, score=  0.000 (best=  0.000) pos=-0.0 0.0 0.0\n",
      "Ep= 347, score=  0.000 (best=  0.000) pos=-0.0 0.0 0.0\n",
      "Ep= 348, score=  0.000 (best=  0.000) pos=-0.0 0.0 0.0\n",
      "Ep= 349, score=  0.000 (best=  0.000) pos=-0.0 0.0 0.0\n",
      "Ep= 350, score=  0.000 (best=  0.000) pos=-0.0 0.0 0.0\n",
      "Ep= 351, score=  0.000 (best=  0.000) pos=-0.0 0.0 0.0\n",
      "Ep= 352, score=  0.000 (best=  0.000) pos=-0.0 0.0 0.0\n",
      "Ep= 353, score=  0.000 (best=  0.000) pos=-0.0 0.0 0.0\n",
      "Ep= 354, score=  0.000 (best=  0.000) pos=-0.0 0.0 0.0\n",
      "Ep= 355, score=  0.000 (best=  0.000) pos=-0.0 0.0 0.0\n",
      "Ep= 356, score=  0.000 (best=  0.000) pos=-0.0 0.0 0.0\n",
      "Ep= 357, score=  0.000 (best=  0.000) pos=-0.0 0.0 0.0\n",
      "Ep= 358, score=  0.000 (best=  0.000) pos=-0.0 0.0 0.0\n",
      "Ep= 359, score=  0.000 (best=  0.000) pos=-0.0 0.0 0.0\n",
      "Ep= 360, score=  0.000 (best=  0.000) pos=-0.0 0.0 0.0\n",
      "Ep= 361, score=  0.000 (best=  0.000) pos=-0.0 0.0 0.0\n",
      "Ep= 362, score=  0.000 (best=  0.000) pos=-0.0 0.0 0.0\n",
      "Ep= 363, score=  0.000 (best=  0.000) pos=-0.0 0.0 0.0\n",
      "Ep= 364, score=  0.000 (best=  0.000) pos=-0.0 0.0 0.0\n",
      "Ep= 365, score=  0.000 (best=  0.000) pos=-0.0 0.0 0.0\n",
      "Ep= 366, score=  0.000 (best=  0.000) pos=-0.0 0.0 0.0\n",
      "Ep= 367, score=  0.000 (best=  0.000) pos=-0.0 0.0 0.0\n",
      "Ep= 368, score=  0.000 (best=  0.000) pos=-0.0 0.0 0.0\n",
      "Ep= 369, score=  0.000 (best=  0.000) pos=-0.0 0.0 0.0\n",
      "Ep= 370, score=  0.000 (best=  0.000) pos=-0.0 0.0 0.0\n",
      "Ep= 371, score=  0.000 (best=  0.000) pos=-0.0 0.0 0.0\n",
      "Ep= 372, score=  0.000 (best=  0.000) pos=-0.0 0.0 0.0\n",
      "Ep= 373, score=  0.000 (best=  0.000) pos=-0.0 0.0 0.0\n",
      "Ep= 374, score=  0.000 (best=  0.000) pos=-0.0 0.0 0.0\n",
      "Ep= 375, score=  0.000 (best=  0.000) pos=-0.0 0.0 0.0\n",
      "Ep= 376, score=  0.000 (best=  0.000) pos=-0.0 0.0 0.0\n",
      "Ep= 377, score=  0.000 (best=  0.000) pos=-0.0 0.0 0.0\n",
      "Ep= 378, score=  0.000 (best=  0.000) pos=-0.0 0.0 0.0\n",
      "Ep= 379, score=  0.000 (best=  0.000) pos=-0.0 0.0 0.0\n",
      "Ep= 380, score=  0.000 (best=  0.000) pos=-0.0 0.0 0.0\n",
      "Ep= 381, score=  0.000 (best=  0.000) pos=-0.0 0.0 0.0\n",
      "Ep= 382, score=  0.000 (best=  0.000) pos=-0.0 0.0 0.0\n",
      "Ep= 383, score=  0.000 (best=  0.000) pos=-0.0 0.0 0.0\n",
      "Ep= 384, score=  0.000 (best=  0.000) pos=-0.0 0.0 0.0\n",
      "Ep= 385, score=  0.000 (best=  0.000) pos=-0.0 0.0 0.0\n",
      "Ep= 386, score=  0.000 (best=  0.000) pos=-0.0 0.0 0.0\n",
      "Ep= 387, score=  0.000 (best=  0.000) pos=-0.0 0.0 0.0\n",
      "Ep= 388, score=  0.000 (best=  0.000) pos=-0.0 0.0 0.0\n",
      "Ep= 389, score=  0.000 (best=  0.000) pos=-0.0 0.0 0.0\n",
      "Ep= 390, score=  0.000 (best=  0.000) pos=-0.0 0.0 0.0\n",
      "Ep= 391, score=  0.000 (best=  0.000) pos=-0.0 0.0 0.0\n",
      "Ep= 392, score=  0.000 (best=  0.000) pos=-0.0 0.0 0.0\n",
      "Ep= 393, score=  0.000 (best=  0.000) pos=-0.0 0.0 0.0\n",
      "Ep= 394, score=  0.000 (best=  0.000) pos=-0.0 0.0 0.0\n",
      "Ep= 395, score=  0.000 (best=  0.000) pos=-0.0 0.0 0.0\n",
      "Ep= 396, score=  0.000 (best=  0.000) pos=-0.0 0.0 0.0\n",
      "Ep= 397, score=  0.000 (best=  0.000) pos=-0.0 0.0 0.0\n",
      "Ep= 398, score=  0.000 (best=  0.000) pos=-0.0 0.0 0.0\n",
      "Ep= 399, score=  0.000 (best=  0.000) pos=-0.0 0.0 0.0\n",
      "Ep= 400, score=  0.000 (best=  0.000) pos=-0.0 0.0 0.0\n",
      "Ep= 401, score=  0.000 (best=  0.000) pos=-0.0 0.0 0.0\n",
      "Ep= 402, score=  0.000 (best=  0.000) pos=-0.0 0.0 0.0\n",
      "Ep= 403, score=  0.000 (best=  0.000) pos=-0.0 0.0 0.0\n",
      "Ep= 404, score=  0.000 (best=  0.000) pos=-0.0 0.0 0.0\n",
      "Ep= 405, score=  0.000 (best=  0.000) pos=-0.0 0.0 0.0\n",
      "Ep= 406, score=  0.000 (best=  0.000) pos=-0.0 0.0 0.0\n",
      "Ep= 407, score=  0.000 (best=  0.000) pos=-0.0 0.0 0.0\n",
      "Ep= 408, score=  0.000 (best=  0.000) pos=-0.0 0.0 0.0\n",
      "Ep= 409, score=  0.000 (best=  0.000) pos=-0.0 0.0 0.0\n",
      "Ep= 410, score=  0.000 (best=  0.000) pos=-0.0 0.0 0.0\n",
      "Ep= 411, score=  0.000 (best=  0.000) pos=-0.0 0.0 0.0\n",
      "Ep= 412, score=  0.000 (best=  0.000) pos=-0.0 0.0 0.0\n",
      "Ep= 413, score=  0.000 (best=  0.000) pos=-0.0 0.0 0.0\n",
      "Ep= 414, score=  0.000 (best=  0.000) pos=-0.0 0.0 0.0\n",
      "Ep= 415, score=  0.000 (best=  0.000) pos=-0.0 0.0 0.0\n",
      "Ep= 416, score=  0.000 (best=  0.000) pos=-0.0 0.0 0.0\n",
      "Ep= 417, score=  0.000 (best=  0.000) pos=-0.0 0.0 0.0\n",
      "Ep= 418, score=  0.000 (best=  0.000) pos=-0.0 0.0 0.0\n",
      "Ep= 419, score=  0.000 (best=  0.000) pos=-0.0 0.0 0.0\n",
      "Ep= 420, score=  0.000 (best=  0.000) pos=-0.0 0.0 0.0\n",
      "Ep= 421, score=  0.000 (best=  0.000) pos=-0.0 0.0 0.0\n",
      "Ep= 422, score=  0.000 (best=  0.000) pos=-0.0 0.0 0.0\n",
      "Ep= 423, score=  0.000 (best=  0.000) pos=-0.0 0.0 0.0\n",
      "Ep= 424, score=  0.000 (best=  0.000) pos=-0.0 0.0 0.0\n",
      "Ep= 425, score=  0.000 (best=  0.000) pos=-0.0 0.0 0.0\n",
      "Ep= 426, score=  0.000 (best=  0.000) pos=-0.0 0.0 0.0\n",
      "Ep= 427, score=  0.000 (best=  0.000) pos=-0.0 0.0 0.0\n",
      "Ep= 428, score=  0.000 (best=  0.000) pos=-0.0 0.0 0.0\n",
      "Ep= 429, score=  0.000 (best=  0.000) pos=-0.0 0.0 0.0\n",
      "Ep= 430, score=  0.000 (best=  0.000) pos=-0.0 0.0 0.0\n",
      "Ep= 431, score=  0.000 (best=  0.000) pos=-0.0 0.0 0.0\n",
      "Ep= 432, score=  0.000 (best=  0.000) pos=-0.0 0.0 0.0\n",
      "Ep= 433, score=  0.000 (best=  0.000) pos=-0.0 0.0 0.0\n",
      "Ep= 434, score=  0.000 (best=  0.000) pos=-0.0 0.0 0.0\n",
      "Ep= 435, score=  0.000 (best=  0.000) pos=-0.0 0.0 0.0\n",
      "Ep= 436, score=  0.000 (best=  0.000) pos=-0.0 0.0 0.0\n",
      "Ep= 437, score=  0.000 (best=  0.000) pos=-0.0 0.0 0.0\n",
      "Ep= 438, score=  0.000 (best=  0.000) pos=-0.0 0.0 0.0\n",
      "Ep= 439, score=  0.000 (best=  0.000) pos=-0.0 0.0 0.0\n",
      "Ep= 440, score=  0.000 (best=  0.000) pos=-0.0 0.0 0.0\n",
      "Ep= 441, score=  0.000 (best=  0.000) pos=-0.0 0.0 0.0\n",
      "Ep= 442, score=  0.000 (best=  0.000) pos=-0.0 0.0 0.0\n",
      "Ep= 443, score=  0.000 (best=  0.000) pos=-0.0 0.0 0.0\n",
      "Ep= 444, score=  0.000 (best=  0.000) pos=-0.0 0.0 0.0\n",
      "Ep= 445, score=  0.000 (best=  0.000) pos=-0.0 0.0 0.0\n",
      "Ep= 446, score=  0.000 (best=  0.000) pos=-0.0 0.0 0.0\n",
      "Ep= 447, score=  0.000 (best=  0.000) pos=-0.0 0.0 0.0\n",
      "Ep= 448, score=  0.000 (best=  0.000) pos=-0.0 0.0 0.0\n",
      "Ep= 449, score=  0.000 (best=  0.000) pos=-0.0 0.0 0.0\n",
      "Ep= 450, score=  0.000 (best=  0.000) pos=-0.0 0.0 0.0\n",
      "Ep= 451, score=  0.000 (best=  0.000) pos=-0.0 0.0 0.0\n",
      "Ep= 452, score=  0.000 (best=  0.000) pos=-0.0 0.0 0.0\n",
      "Ep= 453, score=  0.000 (best=  0.000) pos=-0.0 0.0 0.0\n",
      "Ep= 454, score=  0.000 (best=  0.000) pos=-0.0 0.0 0.0\n",
      "Ep= 455, score=  0.000 (best=  0.000) pos=-0.0 0.0 0.0\n",
      "Ep= 456, score=  0.000 (best=  0.000) pos=-0.0 0.0 0.0\n",
      "Ep= 457, score=  0.000 (best=  0.000) pos=-0.0 0.0 0.0\n",
      "Ep= 458, score=  0.000 (best=  0.000) pos=-0.0 0.0 0.0\n",
      "Ep= 459, score=  0.000 (best=  0.000) pos=-0.0 0.0 0.0\n",
      "Ep= 460, score=  0.000 (best=  0.000) pos=-0.0 0.0 0.0\n",
      "Ep= 461, score=  0.000 (best=  0.000) pos=-0.0 0.0 0.0\n",
      "Ep= 462, score=  0.000 (best=  0.000) pos=-0.0 0.0 0.0\n",
      "Ep= 463, score=  0.000 (best=  0.000) pos=-0.0 0.0 0.0\n",
      "Ep= 464, score=  0.000 (best=  0.000) pos=-0.0 0.0 0.0\n",
      "Ep= 465, score=  0.000 (best=  0.000) pos=-0.0 0.0 0.0\n",
      "Ep= 466, score=  0.000 (best=  0.000) pos=-0.0 0.0 0.0\n",
      "Ep= 467, score=  0.000 (best=  0.000) pos=-0.0 0.0 0.0\n",
      "Ep= 468, score=  0.000 (best=  0.000) pos=-0.0 0.0 0.0\n",
      "Ep= 469, score=  0.000 (best=  0.000) pos=-0.0 0.0 0.0\n",
      "Ep= 470, score=  0.000 (best=  0.000) pos=-0.0 0.0 0.0\n",
      "Ep= 471, score=  0.000 (best=  0.000) pos=-0.0 0.0 0.0\n",
      "Ep= 472, score=  0.000 (best=  0.000) pos=-0.0 0.0 0.0\n",
      "Ep= 473, score=  0.000 (best=  0.000) pos=-0.0 0.0 0.0\n",
      "Ep= 474, score=  0.000 (best=  0.000) pos=-0.0 0.0 0.0\n",
      "Ep= 475, score=  0.000 (best=  0.000) pos=-0.0 0.0 0.0\n",
      "Ep= 476, score=  0.000 (best=  0.000) pos=-0.0 0.0 0.0\n",
      "Ep= 477, score=  0.000 (best=  0.000) pos=-0.0 0.0 0.0\n",
      "Ep= 478, score=  0.000 (best=  0.000) pos=-0.0 0.0 0.0\n",
      "Ep= 479, score=  0.000 (best=  0.000) pos=-0.0 0.0 0.0\n",
      "Ep= 480, score=  0.000 (best=  0.000) pos=-0.0 0.0 0.0\n",
      "Ep= 481, score=  0.000 (best=  0.000) pos=-0.0 0.0 0.0\n",
      "Ep= 482, score=  0.000 (best=  0.000) pos=-0.0 0.0 0.0\n",
      "Ep= 483, score=  0.000 (best=  0.000) pos=-0.0 0.0 0.0\n",
      "Ep= 484, score=  0.000 (best=  0.000) pos=-0.0 0.0 0.0\n",
      "Ep= 485, score=  0.000 (best=  0.000) pos=-0.0 0.0 0.0\n",
      "Ep= 486, score=  0.000 (best=  0.000) pos=-0.0 0.0 0.0\n",
      "Ep= 487, score=  0.000 (best=  0.000) pos=-0.0 0.0 0.0\n",
      "Ep= 488, score=  0.000 (best=  0.000) pos=-0.0 0.0 0.0\n",
      "Ep= 489, score=  0.000 (best=  0.000) pos=-0.0 0.0 0.0\n",
      "Ep= 490, score=  0.000 (best=  0.000) pos=-0.0 0.0 0.0\n",
      "Ep= 491, score=  0.000 (best=  0.000) pos=-0.0 0.0 0.0\n",
      "Ep= 492, score=  0.000 (best=  0.000) pos=-0.0 0.0 0.0\n",
      "Ep= 493, score=  0.000 (best=  0.000) pos=-0.0 0.0 0.0\n",
      "Ep= 494, score=  0.000 (best=  0.000) pos=-0.0 0.0 0.0\n",
      "Ep= 495, score=  0.000 (best=  0.000) pos=-0.0 0.0 0.0\n",
      "Ep= 496, score=  0.000 (best=  0.000) pos=-0.0 0.0 0.0\n",
      "Ep= 497, score=  0.000 (best=  0.000) pos=-0.0 0.0 0.0\n",
      "Ep= 498, score=  0.000 (best=  0.000) pos=-0.0 0.0 0.0\n",
      "Ep= 499, score=  0.000 (best=  0.000) pos=-0.0 0.0 0.0\n",
      "Ep= 500, score=  0.000 (best=  0.000) pos=-0.0 0.0 0.0"
     ]
    }
   ],
   "source": [
    "import numpy as np\n",
    "import sys\n",
    "from agents.agent import Agent\n",
    "from task import Task\n",
    "\n",
    "num_episodes = 500\n",
    "# Take off task\n",
    "# Quadcopter stands still at the ground and has as target a height of 100 above the sarting point\n",
    "init_pos = np.array([0., 0., 0., 0., 0., 0.])\n",
    "target_pos = np.array([0., 0., 100.])\n",
    "task = Task(init_pose=init_pos, target_pos=target_pos,runtime=10.)\n",
    "agent = Agent(task)\n",
    "# save rewards for plotting\n",
    "rewards = []\n",
    "\n",
    "for i_episode in range(1, num_episodes+1):\n",
    "    state = agent.reset_episode() # start a new episode\n",
    "    step = 0\n",
    "    while True:\n",
    "        step +=1\n",
    "        action = agent.act(state)\n",
    "        next_state, reward, done = task.step(action)\n",
    "        agent.step(action, reward, next_state, done)\n",
    "        state = next_state\n",
    "        if done:\n",
    "            rewards.append(agent.score)\n",
    "            print(\"\\r\\nEp={:4d}, score={:7.3f} (best={:7.3f}) pos={} {} {}\".format(\n",
    "                i_episode,\n",
    "                agent.score,\n",
    "                agent.best_score,\n",
    "                round(task.sim.pose[:3][0],2),\n",
    "                round(task.sim.pose[:3][1],2),\n",
    "                round(task.sim.pose[:3][2],2)), end=\"\")  # [debug]\n",
    "            break\n",
    "    sys.stdout.flush()"
   ]
  },
  {
   "cell_type": "markdown",
   "metadata": {
    "collapsed": true
   },
   "source": [
    "## Plot the Rewards\n",
    "\n",
    "Once you are satisfied with your performance, plot the episode rewards, either from a single run, or averaged over multiple runs. "
   ]
  },
  {
   "cell_type": "code",
   "execution_count": 77,
   "metadata": {},
   "outputs": [
    {
     "data": {
      "text/plain": [
       "[<matplotlib.lines.Line2D at 0x7f77308d8048>]"
      ]
     },
     "execution_count": 77,
     "metadata": {},
     "output_type": "execute_result"
    },
    {
     "data": {
      "image/png": "[encoded data removed]",
      "text/plain": [
       "<matplotlib.figure.Figure at 0x7f773091b0f0>"
      ]
     },
     "metadata": {
      "needs_background": "light"
     },
     "output_type": "display_data"
    }
   ],
   "source": [
    "plt.plot(rewards, label='rewards')\n"
   ]
  },
  {
   "cell_type": "markdown",
   "metadata": {
    "collapsed": true
   },
   "source": [
    "## Reflections\n",
    "\n",
    "**Question 1**: Describe the task that you specified in `task.py`.  How did you design the reward function?\n",
    "\n",
    "**Answer**:\n",
    "\n",
    "well, simply to Take off from point 0 in x, y and z and reach 0, 0, 10. \n",
    "\n",
    "I tried to design the reward to fly the quadcopter straight up and penalises it for significant changes to its angles, pose (other than z axis) and jumps in velocity but I couldn't find a balanced way to score the reward so that learning was uninhibited. So instead I used the sigmoid function to provide a distance from target score that would always be between 0 and 1 with values closer to the target closer to 0, and then took this distance score minus 1 to give a score of 1 when the quadcopter was on the target"
   ]
  },
  {
   "cell_type": "markdown",
   "metadata": {},
   "source": [
    "**Question 2**: Discuss your agent briefly, using the following questions as a guide:\n",
    "\n",
    "- What learning algorithm(s) did you try? What worked best for you?\n",
    "- What was your final choice of hyperparameters (such as $\\alpha$, $\\gamma$, $\\epsilon$, etc.)?\n",
    "- What neural network architecture did you use (if any)? Specify layers, sizes, activation functions, etc.\n",
    "\n",
    "**Answer**:\n",
    "\n",
    "I used the DDPG algorithm as there was lots of resources available for it. Included was a Ornstein-Uhlenbeck process to aid exploration. I used a DDPG paper https://arxiv.org/pdf/1509.02971v2.pdf, it was really helpful.\n",
    "\n",
    "On the actor and critic I again used the same architecture for the neural network as the DDPG paper above. The actor has 2 hidden layers with 400 and 300 nodes and relu activation layers. The critic has single hidden layers of 300 nodes likewise with relu activation. Adding extra layers had minimal positive effect on training except for being significantly slower and so I opted not to go for these.\n",
    "\n",
    "I tried playing with the reward function to increase the reward the closer to the 5 second time limit which caused the increase in z to happen slower and somewhat more consistently but it frequently wouldn't learn or what drop off after going through a small period of learning."
   ]
  },
  {
   "cell_type": "markdown",
   "metadata": {},
   "source": [
    "**Question 3**: Using the episode rewards plot, discuss how the agent learned over time.\n",
    "\n",
    "- Was it an easy task to learn or hard?\n",
    "- Was there a gradual learning curve, or an aha moment?\n",
    "- How good was the final performance of the agent? (e.g. mean rewards over the last 10 episodes)\n",
    "\n",
    "**Answer**:\n",
    "hard, come on XD ,Learning is really challenging. It tends to suddenly shoot up, continues to perform well for a while and then can just drop off. I reduced the exploration paramenter to see if that effected it but it didn't seem to make much difference.\n",
    "\n",
    "I haven't been able to get the network to sufficiently learn to take off as can be seen in the above results and so the last set of rewards are not great."
   ]
  },
  {
   "cell_type": "markdown",
   "metadata": {},
   "source": [
    "**Question 4**: Briefly summarize your experience working on this project. You can use the following prompts for ideas.\n",
    "\n",
    "- What was the hardest part of the project? (e.g. getting started, plotting, specifying the task, etc.)\n",
    "- Did you find anything interesting in how the quadcopter or your agent behaved?\n",
    "\n",
    "**Answer**:\n",
    "The project is such a significant leap from the others I've worked on that I found this really challenging. There are so many different components and parameters. I really struggled with setting the reward function properly and so tried to keep it simple, however I still cannot work out why with the target set that the quadcopter doesn't hover once it reaches the target."
   ]
  },
  {
   "cell_type": "code",
   "execution_count": null,
   "metadata": {},
   "outputs": [],
   "source": []
  }
 ],
 "metadata": {
  "anaconda-cloud": {},
  "kernelspec": {
   "display_name": "Python 3",
   "language": "python",
   "name": "python3"
  },
  "language_info": {
   "codemirror_mode": {
    "name": "ipython",
    "version": 3
   },
   "file_extension": ".py",
   "mimetype": "text/x-python",
   "name": "python",
   "nbconvert_exporter": "python",
   "pygments_lexer": "ipython3",
   "version": "3.6.3"
  }
 },
 "nbformat": 4,
 "nbformat_minor": 2
}
